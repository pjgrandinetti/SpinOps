{
 "cells": [
  {
   "cell_type": "markdown",
   "id": "eeaa25e9",
   "metadata": {},
   "source": [
    "# spinOps Quickstart\n",
    "\n",
    "This notebook shows how to install **spinOps**, build a spin operator, and inspect its matrix."
   ]
  },
  {
   "cell_type": "markdown",
   "id": "a8a22766",
   "metadata": {},
   "source": [
    "## Import and Create an Operator\n",
    "\n",
    "We’ll build the \\(I_x\\) operator for a two‑spin‑½ system."
   ]
  },
  {
   "cell_type": "code",
   "execution_count": null,
   "id": "c7861ae0",
   "metadata": {},
   "outputs": [],
   "source": [
    "import spinOps\n",
    "\n",
    "# argument 0 → operator index (I_x for first spin)\n",
    "# [1,1] → two spin‑½ nuclei (1 denotes 2×½)\n",
    "op = spinOps.createIz(spin_index=0, i_times_2=[1, 1])"
   ]
  },
  {
   "cell_type": "markdown",
   "id": "d7002c8a",
   "metadata": {},
   "source": [
    "## Display the Matrix"
   ]
  },
  {
   "cell_type": "code",
   "execution_count": null,
   "id": "f9d5d5c0",
   "metadata": {},
   "outputs": [
    {
     "name": "stdout",
     "output_type": "stream",
     "text": [
      "[[-0.5+0.j  0. +0.j  0. +0.j  0. +0.j]\n",
      " [ 0. +0.j  0.5+0.j  0. +0.j  0. +0.j]\n",
      " [ 0. +0.j  0. +0.j -0.5+0.j  0. +0.j]\n",
      " [ 0. +0.j  0. +0.j  0. +0.j  0.5+0.j]]\n"
     ]
    }
   ],
   "source": [
    "print(op)"
   ]
  },
  {
   "cell_type": "code",
   "execution_count": null,
   "id": "6318bc6e",
   "metadata": {},
   "outputs": [],
   "source": []
  }
 ],
 "metadata": {
  "kernelspec": {
   "display_name": "mrsimulator",
   "language": "python",
   "name": "python3"
  },
  "language_info": {
   "codemirror_mode": {
    "name": "ipython",
    "version": 3
   },
   "file_extension": ".py",
   "mimetype": "text/x-python",
   "name": "python",
   "nbconvert_exporter": "python",
   "pygments_lexer": "ipython3",
   "version": "3.10.16"
  }
 },
 "nbformat": 4,
 "nbformat_minor": 5
}
